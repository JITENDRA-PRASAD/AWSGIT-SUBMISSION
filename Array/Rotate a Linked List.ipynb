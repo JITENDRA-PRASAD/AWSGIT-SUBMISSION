{
 "cells": [
  {
   "cell_type": "code",
   "execution_count": 1,
   "id": "intimate-telescope",
   "metadata": {},
   "outputs": [
    {
     "name": "stdout",
     "output_type": "stream",
     "text": [
      "[7, 1, 4, 6, 8]\n"
     ]
    }
   ],
   "source": [
    "array = [1,4,6,8,7]\n",
    "x = 0\n",
    "while x<len(array)-1:\n",
    "    for i in range(0,len(array)-1):\n",
    "        temp = array[i]\n",
    "        array[i] = array[i+1]\n",
    "        array[i+1] = temp\n",
    "    x += 1\n",
    "print(array)"
   ]
  },
  {
   "cell_type": "code",
   "execution_count": null,
   "id": "third-norman",
   "metadata": {},
   "outputs": [],
   "source": []
  }
 ],
 "metadata": {
  "kernelspec": {
   "display_name": "Python 3",
   "language": "python",
   "name": "python3"
  },
  "language_info": {
   "codemirror_mode": {
    "name": "ipython",
    "version": 3
   },
   "file_extension": ".py",
   "mimetype": "text/x-python",
   "name": "python",
   "nbconvert_exporter": "python",
   "pygments_lexer": "ipython3",
   "version": "3.9.1"
  }
 },
 "nbformat": 4,
 "nbformat_minor": 5
}
