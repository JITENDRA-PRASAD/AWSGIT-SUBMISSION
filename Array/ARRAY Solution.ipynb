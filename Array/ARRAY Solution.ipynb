{
 "cells": [
  {
   "cell_type": "markdown",
   "id": "emerging-actress",
   "metadata": {},
   "source": [
    "# 1. Print all sub arrays for a given array. Ex - if array is [2, 7, 5],\n",
    "    Output will be\n",
    "    [2] [2, 7] [2, 7, 5] [7] [7, 5] [5]"
   ]
  },
  {
   "cell_type": "code",
   "execution_count": 1,
   "id": "leading-aggregate",
   "metadata": {},
   "outputs": [
    {
     "name": "stdout",
     "output_type": "stream",
     "text": [
      "[2]\n",
      "[2, 7]\n",
      "[2, 7, 5]\n",
      "[7]\n",
      "[7, 5]\n",
      "[5]\n"
     ]
    }
   ],
   "source": [
    "x = [2,7,5]\n",
    "p = 0\n",
    "while p<=len(x):\n",
    "    y = []\n",
    "    for i in range(p,len(x)):\n",
    "        y.append(x[i])\n",
    "        print(y)\n",
    "    p+=1"
   ]
  },
  {
   "cell_type": "markdown",
   "id": "virgin-cross",
   "metadata": {},
   "source": [
    "# Rotate an array by one. Ex - if array is [1, 4, 6, 8, 7] Output will be [7, 1, 4, 6, 8]"
   ]
  },
  {
   "cell_type": "code",
   "execution_count": 2,
   "id": "piano-mineral",
   "metadata": {},
   "outputs": [
    {
     "name": "stdout",
     "output_type": "stream",
     "text": [
      "[7, 1, 8, 4, 6]\n"
     ]
    }
   ],
   "source": [
    "x = [1,4,6,8,7]\n",
    "y = []\n",
    "for i in range(0,len(x)//2):\n",
    "    y.append(x[-i-1])\n",
    "    y.append(x[i])\n",
    "if len(x)%2!=0:\n",
    "    y.append(x[(len(x)//2)])\n",
    "print(y)"
   ]
  },
  {
   "cell_type": "code",
   "execution_count": null,
   "id": "hungry-combine",
   "metadata": {},
   "outputs": [],
   "source": []
  }
 ],
 "metadata": {
  "kernelspec": {
   "display_name": "Python 3",
   "language": "python",
   "name": "python3"
  },
  "language_info": {
   "codemirror_mode": {
    "name": "ipython",
    "version": 3
   },
   "file_extension": ".py",
   "mimetype": "text/x-python",
   "name": "python",
   "nbconvert_exporter": "python",
   "pygments_lexer": "ipython3",
   "version": "3.9.1"
  }
 },
 "nbformat": 4,
 "nbformat_minor": 5
}
