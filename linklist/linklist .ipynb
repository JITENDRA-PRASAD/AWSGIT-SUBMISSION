{
 "cells": [
  {
   "cell_type": "code",
   "execution_count": 1,
   "id": "closed-cornell",
   "metadata": {},
   "outputs": [
    {
     "name": "stdout",
     "output_type": "stream",
     "text": [
      "20 ==>4 ==>15 ==>10 ==>"
     ]
    },
    {
     "data": {
      "text/plain": [
       "True"
      ]
     },
     "execution_count": 1,
     "metadata": {},
     "output_type": "execute_result"
    }
   ],
   "source": [
    "class Node:\n",
    "    def __init__(self,data=None,Next=None):\n",
    "        self.data = data\n",
    "        self.next = Next\n",
    "\n",
    "class Linkedlist:\n",
    "    def __init__(self):\n",
    "        self.head = None\n",
    "        \n",
    "    def appendll(self,data):\n",
    "        new_node = Node(data)\n",
    "        if self.head is None:\n",
    "            self.head = new_node\n",
    "            return\n",
    "        last = self.head\n",
    "        while last.next is not None:\n",
    "            last = last.next\n",
    "        last.next = new_node\n",
    "    \n",
    "    def insertll(self,prev_node,new_data):\n",
    "        if prev_node is None:\n",
    "            print(\"give previous node in linklist\")\n",
    "            return\n",
    "        new_node = Node(new_data)\n",
    "        new_node.next = prev_node.next\n",
    "        prev_node.next = new_node\n",
    "    \n",
    "    def deletell(self,data):\n",
    "        temp = self.head\n",
    "        if temp is not None:\n",
    "            if temp.data==data:\n",
    "                self.head = temp.next\n",
    "                temp = None\n",
    "                return\n",
    "        \n",
    "        while temp is not None:\n",
    "            if temp.data == data:\n",
    "                break\n",
    "            prev = temp\n",
    "            temp = temp.next\n",
    "        if temp == None:\n",
    "            return\n",
    "        prev.next = temp.next\n",
    "        temp = None\n",
    "        \n",
    "    def detectLoop(self):\n",
    "        s = set()\n",
    "        temp = self.head\n",
    "        while (temp):\n",
    "            if (temp in s):\n",
    "                return True\n",
    "            s.add(temp)\n",
    "            temp = temp.next\n",
    "        return False\n",
    "        \n",
    "    def printll(self):\n",
    "        temp = self.head\n",
    "        while (temp):\n",
    "            print(temp.data, \"==>\",end=\"\")\n",
    "            temp = temp.next\n",
    "            \n",
    "llist = Linkedlist()\n",
    "llist.appendll(20)\n",
    "llist.appendll(4)\n",
    "llist.appendll(15)\n",
    "llist.appendll(10)\n",
    "llist.printll()\n",
    "llist.head.next.next.next.next = llist.head\n",
    "llist.detectLoop()"
   ]
  },
  {
   "cell_type": "code",
   "execution_count": null,
   "id": "affecting-shakespeare",
   "metadata": {},
   "outputs": [],
   "source": []
  }
 ],
 "metadata": {
  "kernelspec": {
   "display_name": "Python 3",
   "language": "python",
   "name": "python3"
  },
  "language_info": {
   "codemirror_mode": {
    "name": "ipython",
    "version": 3
   },
   "file_extension": ".py",
   "mimetype": "text/x-python",
   "name": "python",
   "nbconvert_exporter": "python",
   "pygments_lexer": "ipython3",
   "version": "3.9.1"
  }
 },
 "nbformat": 4,
 "nbformat_minor": 5
}
